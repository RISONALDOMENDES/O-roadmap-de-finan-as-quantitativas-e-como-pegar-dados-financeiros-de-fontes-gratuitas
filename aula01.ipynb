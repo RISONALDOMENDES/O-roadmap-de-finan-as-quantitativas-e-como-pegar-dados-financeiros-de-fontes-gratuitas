{
 "cells": [
  {
   "cell_type": "markdown",
   "metadata": {},
   "source": [
    "### O roadmap de finanças quantitativas e como pegar dados financeiros de fontes gratuitas"
   ]
  },
  {
   "cell_type": "markdown",
   "metadata": {},
   "source": [
    "coleta de dados"
   ]
  },
  {
   "cell_type": "code",
   "execution_count": null,
   "metadata": {},
   "outputs": [],
   "source": []
  }
 ],
 "metadata": {
  "language_info": {
   "name": "python"
  }
 },
 "nbformat": 4,
 "nbformat_minor": 2
}
